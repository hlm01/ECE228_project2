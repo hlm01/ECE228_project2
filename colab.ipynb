{
 "cells": [
  {
   "cell_type": "code",
   "execution_count": null,
   "id": "21395e49",
   "metadata": {},
   "outputs": [],
   "source": [
    "# hello"
   ]
  }
 ],
 "metadata": {
  "language_info": {
   "name": "python"
  }
 },
 "nbformat": 4,
 "nbformat_minor": 5
}
